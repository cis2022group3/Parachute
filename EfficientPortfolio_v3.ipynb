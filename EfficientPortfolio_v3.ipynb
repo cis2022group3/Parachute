{
 "cells": [
  {
   "cell_type": "code",
   "execution_count": null,
   "id": "5b831fb6",
   "metadata": {},
   "outputs": [],
   "source": []
  },
  {
   "cell_type": "code",
   "execution_count": null,
   "id": "553799e3",
   "metadata": {},
   "outputs": [],
   "source": []
  },
  {
   "cell_type": "code",
   "execution_count": null,
   "id": "97f9d839",
   "metadata": {},
   "outputs": [],
   "source": []
  },
  {
   "cell_type": "markdown",
   "id": "0497e490",
   "metadata": {},
   "source": [
    "### Use Natural Language Programming to determine the Risk tolerance of the client"
   ]
  },
  {
   "cell_type": "code",
   "execution_count": 1,
   "id": "909d2fea",
   "metadata": {},
   "outputs": [
    {
     "name": "stdout",
     "output_type": "stream",
     "text": [
      "Enter your perception on risk: I hate risk\n",
      "\n",
      "Strategy: Propose Minimum Variance portfolio\n"
     ]
    }
   ],
   "source": [
    "# Ask the client about the perception of risk\n",
    "\n",
    "PersonalStatementOnRisk = input('Enter your perception on risk: ')\n",
    "print()\n",
    "\n",
    "# Use Vader to calculate the polarity score sentiment\n",
    "\n",
    "from vaderSentiment.vaderSentiment import SentimentIntensityAnalyzer\n",
    "\n",
    "sa = SentimentIntensityAnalyzer()\n",
    "\n",
    "sa.polarity_scores(PersonalStatementOnRisk)\n",
    "\n",
    "# Use the Vader polarity score sentiment to determine which type of portfolio to construct for the client\n",
    "\n",
    "CHOICE = [] \n",
    "\n",
    "if sa.polarity_scores(PersonalStatementOnRisk)['neg']>sa.polarity_scores(PersonalStatementOnRisk)['neu'] and sa.polarity_scores(PersonalStatementOnRisk)['neg']>sa.polarity_scores(PersonalStatementOnRisk)['pos']:\n",
    "    \n",
    "    print(\"Strategy: Propose Minimum Variance portfolio\")\n",
    "    CHOICE = -1\n",
    "    \n",
    "elif sa.polarity_scores(PersonalStatementOnRisk)['pos']>sa.polarity_scores(PersonalStatementOnRisk)['neu'] and sa.polarity_scores(PersonalStatementOnRisk)['pos']>sa.polarity_scores(PersonalStatementOnRisk)['neg']:\n",
    "    \n",
    "    print(\"Strategy: Propose Optimal Portfolio + Options Strategy \")\n",
    "    \n",
    "    CHOICE = 1\n",
    "    \n",
    "else:\n",
    "    \n",
    "    print(\"Strategy: Propose Optimal Portfolio\")\n",
    "    CHOICE = 0"
   ]
  },
  {
   "cell_type": "markdown",
   "id": "fc6132cd",
   "metadata": {},
   "source": [
    "### Ask the client the assets preferred for the portfolio"
   ]
  },
  {
   "cell_type": "code",
   "execution_count": 2,
   "id": "08308cbf",
   "metadata": {},
   "outputs": [
    {
     "name": "stdout",
     "output_type": "stream",
     "text": [
      "Enter the ticker of the stock you are interested to add to your portfolio. Type 'Stop' when done...  tsla\n",
      "Enter the ticker of the stock you are interested to add to your portfolio. Type 'Stop' when done...  goog\n",
      "Enter the ticker of the stock you are interested to add to your portfolio. Type 'Stop' when done...  aapl\n",
      "Enter the ticker of the stock you are interested to add to your portfolio. Type 'Stop' when done...  fb\n",
      "Enter the ticker of the stock you are interested to add to your portfolio. Type 'Stop' when done...  baba\n",
      "Enter the ticker of the stock you are interested to add to your portfolio. Type 'Stop' when done...  stop\n",
      "\n"
     ]
    }
   ],
   "source": [
    "import re\n",
    "\n",
    "\n",
    "ASSETS = []\n",
    "Stock  = []\n",
    "\n",
    "for i in range(10):\n",
    "    \n",
    "    Stock = input(\"Enter the ticker of the stock you are interested to add to your portfolio. Type 'Stop' when done...  \")\n",
    "    Stock = re.sub(r'[^a-zA-Z]', '', Stock)\n",
    "    Stock = Stock.lower()\n",
    "    \n",
    "    if Stock != \"stop\":\n",
    "        \n",
    "        Stock = Stock.upper()\n",
    "        ASSETS.append(Stock)\n",
    "        \n",
    "    else:\n",
    "        break    # break here\n",
    "print()\n",
    "\n",
    "tickers = ASSETS"
   ]
  },
  {
   "cell_type": "code",
   "execution_count": 3,
   "id": "4999905a",
   "metadata": {},
   "outputs": [],
   "source": [
    "# Importing all required libraries\n",
    "\n",
    "import matplotlib.pyplot as plt\n",
    "import numpy as np\n",
    "import pandas as pd\n",
    "import pandas_datareader.data as web\n",
    "\n",
    "from matplotlib.ticker import FuncFormatter\n",
    "\n",
    "from pypfopt import objective_functions\n",
    "from pypfopt import risk_models\n",
    "from pypfopt import expected_returns\n",
    "#from pypfopt import plotting\n",
    "\n",
    "from pypfopt.cla import CLA\n",
    "from pypfopt.discrete_allocation import DiscreteAllocation, get_latest_prices\n",
    "from pypfopt.efficient_frontier import EfficientFrontier\n",
    "\n",
    "# library\n",
    "import matplotlib.pyplot as plt\n",
    "from palettable.colorbrewer.qualitative import Pastel1_7\n",
    "\n",
    "# Risk free rate:\n",
    "\n",
    "rf = 0.025\n",
    "\n",
    "# Use an api to obtain a time series of a selected set of stocks, identified by their tickers.\n",
    "\n",
    "#tickers = ['GOOG','AAPL','FB','BABA','AMZN','GE','AMD','WMT','BAC','GM','T','UAA','XOM','RRC','BBY','MA','PFE','JPM','SBUX']\n",
    "\n",
    "price_data = []\n",
    "\n",
    "start='2010-1-1'\n",
    "end = '2021-12-31'\n",
    "\n",
    "for ticker in tickers:\n",
    "    \n",
    "    prices = web.DataReader(ticker, 'stooq',start,end)\n",
    "    \n",
    "    price_data.append(prices.assign(ticker=ticker)[['Close']])\n",
    "    \n",
    "df_stocks = pd.concat(price_data, axis=1)\n",
    "df_stocks.columns=tickers\n",
    "\n",
    "df_stocks = df_stocks.sort_index()\n",
    "df_stocks.head()\n",
    "\n",
    "df_stocks.to_excel(\"df_stocks.xlsx\")\n",
    "\n",
    "# Obtain descriptive statistics of the sample\n",
    "\n",
    "# Annualized Return\n",
    "mu = expected_returns.mean_historical_return(df_stocks)\n",
    "\n",
    "# Sample Variance of Portfolio\n",
    "Sigma = risk_models.sample_cov(df_stocks)\n",
    "\n"
   ]
  },
  {
   "cell_type": "markdown",
   "id": "5d5b4816",
   "metadata": {},
   "source": [
    "### Use the results from the Natural Language Processing to choose the ideal portfolio for the client"
   ]
  },
  {
   "cell_type": "code",
   "execution_count": 4,
   "id": "33b89b3d",
   "metadata": {},
   "outputs": [
    {
     "name": "stdout",
     "output_type": "stream",
     "text": [
      "\n",
      "The weights among assets within the portfolio are:\n"
     ]
    },
    {
     "data": {
      "text/html": [
       "<div>\n",
       "<style scoped>\n",
       "    .dataframe tbody tr th:only-of-type {\n",
       "        vertical-align: middle;\n",
       "    }\n",
       "\n",
       "    .dataframe tbody tr th {\n",
       "        vertical-align: top;\n",
       "    }\n",
       "\n",
       "    .dataframe thead th {\n",
       "        text-align: right;\n",
       "    }\n",
       "</style>\n",
       "<table border=\"1\" class=\"dataframe\">\n",
       "  <thead>\n",
       "    <tr style=\"text-align: right;\">\n",
       "      <th></th>\n",
       "      <th>Weights</th>\n",
       "    </tr>\n",
       "  </thead>\n",
       "  <tbody>\n",
       "    <tr>\n",
       "      <th>TSLA</th>\n",
       "      <td>0.01393</td>\n",
       "    </tr>\n",
       "    <tr>\n",
       "      <th>GOOG</th>\n",
       "      <td>0.43214</td>\n",
       "    </tr>\n",
       "    <tr>\n",
       "      <th>AAPL</th>\n",
       "      <td>0.32043</td>\n",
       "    </tr>\n",
       "    <tr>\n",
       "      <th>FB</th>\n",
       "      <td>0.07145</td>\n",
       "    </tr>\n",
       "    <tr>\n",
       "      <th>BABA</th>\n",
       "      <td>0.16205</td>\n",
       "    </tr>\n",
       "  </tbody>\n",
       "</table>\n",
       "</div>"
      ],
      "text/plain": [
       "      Weights\n",
       "TSLA  0.01393\n",
       "GOOG  0.43214\n",
       "AAPL  0.32043\n",
       "FB    0.07145\n",
       "BABA  0.16205"
      ]
     },
     "execution_count": 4,
     "metadata": {},
     "output_type": "execute_result"
    }
   ],
   "source": [
    "# Calculate the Sharpe ratio (mu/Sigma) of the different combinations of stocks within portfolios, and find those portfolios that have the highest Ratio given Sigma (efficient)\n",
    "\n",
    "if CHOICE == 0:\n",
    "    \n",
    "    ef = EfficientFrontier(mu-rf, Sigma) \n",
    "\n",
    "    Portfolio = ef.max_sharpe() \n",
    "    \n",
    "elif CHOICE == 1:\n",
    "    \n",
    "    ef = EfficientFrontier(mu-rf, Sigma, weight_bounds=(-1,1)) \n",
    "\n",
    "    Portfolio = ef.max_sharpe()     \n",
    "    \n",
    "else:\n",
    "        \n",
    "    ef = EfficientFrontier(mu-rf, Sigma, weight_bounds=(-1,1)) \n",
    "\n",
    "    Portfolio      = ef.min_volatility()\n",
    "    \n",
    "Portfolio_pwt  = ef.clean_weights()\n",
    "\n",
    "print()\n",
    "print(\"The weights among assets within the portfolio are:\")    \n",
    "ef.clean_weights()\n",
    "\n",
    "Portf_t = list(Portfolio_pwt.keys())\n",
    "Portf_w = list(Portfolio_pwt.values())\n",
    "\n",
    "P_T = []\n",
    "P_W = []\n",
    "\n",
    "for i in range(len(Portf_t)):\n",
    "    \n",
    "    P_T.append(Portf_t[i])\n",
    "    P_W.append(Portf_w[i])\n",
    "    \n",
    "PORTF   = pd.DataFrame(data=P_W,columns=['Weights'],index=P_T)\n",
    "PORTpos = PORTF.loc[PORTF['Weights'] != 0]\n",
    "PORTpos"
   ]
  },
  {
   "cell_type": "code",
   "execution_count": 5,
   "id": "9d462bd1",
   "metadata": {},
   "outputs": [
    {
     "name": "stdout",
     "output_type": "stream",
     "text": [
      "Expected annual return: 21.1%\n",
      "Annual volatility: 23.2%\n",
      "Sharpe Ratio: 0.82\n",
      "\n",
      "The annual performance statistics of the portfolio are:\n"
     ]
    },
    {
     "data": {
      "text/html": [
       "<div>\n",
       "<style scoped>\n",
       "    .dataframe tbody tr th:only-of-type {\n",
       "        vertical-align: middle;\n",
       "    }\n",
       "\n",
       "    .dataframe tbody tr th {\n",
       "        vertical-align: top;\n",
       "    }\n",
       "\n",
       "    .dataframe thead th {\n",
       "        text-align: right;\n",
       "    }\n",
       "</style>\n",
       "<table border=\"1\" class=\"dataframe\">\n",
       "  <thead>\n",
       "    <tr style=\"text-align: right;\">\n",
       "      <th></th>\n",
       "      <th>Annual Return</th>\n",
       "      <th>Annual Volatility</th>\n",
       "      <th>Sharpe Ratio</th>\n",
       "    </tr>\n",
       "  </thead>\n",
       "  <tbody>\n",
       "    <tr>\n",
       "      <th>Values</th>\n",
       "      <td>0.21106</td>\n",
       "      <td>0.23188</td>\n",
       "      <td>0.823961</td>\n",
       "    </tr>\n",
       "  </tbody>\n",
       "</table>\n",
       "</div>"
      ],
      "text/plain": [
       "        Annual Return  Annual Volatility  Sharpe Ratio\n",
       "Values        0.21106            0.23188      0.823961"
      ]
     },
     "execution_count": 5,
     "metadata": {},
     "output_type": "execute_result"
    }
   ],
   "source": [
    "PERF = ef.portfolio_performance(verbose=True)\n",
    "\n",
    "print()\n",
    "print(\"The annual performance statistics of the portfolio are:\")  \n",
    "\n",
    "d = {\"Annual Return\":PERF[0],\"Annual Volatility\":PERF[1],\"Sharpe Ratio\":PERF[2]}\n",
    "\n",
    "Performance = pd.DataFrame(data=d,index=[\"Values\"])\n",
    "Performance"
   ]
  },
  {
   "cell_type": "code",
   "execution_count": 6,
   "id": "33e58af4",
   "metadata": {},
   "outputs": [
    {
     "data": {
      "image/png": "[encoded data removed]",
      "text/plain": [
       "<Figure size 432x288 with 1 Axes>"
      ]
     },
     "metadata": {},
     "output_type": "display_data"
    }
   ],
   "source": [
    "# create data\n",
    "names = list(PORTpos.index)\n",
    "size  = list(PORTpos.Weights)\n",
    "size =  [abs(s) for s in size]\n",
    " \n",
    "# Create a circle at the center of the plot\n",
    "my_circle = plt.Circle( (0,0), 0.7, color='white')\n",
    "\n",
    "from palettable.colorbrewer.qualitative import Pastel1_7\n",
    "plt.pie(size, labels=names, colors=Pastel1_7.hex_colors)\n",
    "p = plt.gcf()\n",
    "p.gca().add_artist(my_circle)\n",
    "\n",
    "# Show the graph\n",
    "plt.savefig(\"chart.png\", format=\"png\") # specify filetype explicitly\n",
    "\n",
    "plt.show()\n",
    "plt.close()"
   ]
  },
  {
   "cell_type": "code",
   "execution_count": 7,
   "id": "4f58bc5f",
   "metadata": {},
   "outputs": [],
   "source": [
    "# 1. Set up multiple variables to store the titles, text within the report\n",
    "page_title_text='My report'\n",
    "title_text = 'Recommended Portfolio'\n",
    "text = 'Find below your optimal portfolio based on your risk profile and recent market conditions'\n",
    "stats_text = 'Percentage of optimal portfolio on individual stocks'\n",
    "perf_text  = 'Performance of optimal portfolio'\n",
    "\n",
    "\n",
    "# 2. Combine them together using a long f-string\n",
    "html = f'''\n",
    "    <html>\n",
    "        <head>\n",
    "            <title>{page_title_text}</title>\n",
    "        </head>\n",
    "        <body>\n",
    "            <h1>{title_text}</h1>\n",
    "            <p>{text}</p>\n",
    "            <img src='chart.png' width=\"700\">\n",
    "            <h2>{perf_text}</h2>\n",
    "            {Performance.to_html()}\n",
    "            <h2>{stats_text}</h2>\n",
    "            {PORTF.to_html()}\n",
    "        </body>\n",
    "    </html>\n",
    "    '''\n",
    "# 3. Write the html string as an HTML file\n",
    "with open('html_report.html', 'w') as f:\n",
    "    f.write(html)"
   ]
  },
  {
   "cell_type": "code",
   "execution_count": null,
   "id": "81cd8eb4",
   "metadata": {},
   "outputs": [],
   "source": []
  }
 ],
 "metadata": {
  "kernelspec": {
   "display_name": "Python 3",
   "language": "python",
   "name": "python3"
  },
  "language_info": {
   "codemirror_mode": {
    "name": "ipython",
    "version": 3
   },
   "file_extension": ".py",
   "mimetype": "text/x-python",
   "name": "python",
   "nbconvert_exporter": "python",
   "pygments_lexer": "ipython3",
   "version": "3.8.8"
  }
 },
 "nbformat": 4,
 "nbformat_minor": 5
}
