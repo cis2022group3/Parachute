{
 "cells": [
  {
   "cell_type": "code",
   "execution_count": 1,
   "id": "d4cbc523",
   "metadata": {},
   "outputs": [
    {
     "data": {
      "text/plain": [
       "OrderedDict([('GOOG', 0.0),\n",
       "             ('AAPL', 0.46387),\n",
       "             ('FB', 0.01268),\n",
       "             ('BABA', 0.0),\n",
       "             ('AMZN', 0.27304),\n",
       "             ('GE', 0.0),\n",
       "             ('AMD', 0.0),\n",
       "             ('WMT', 0.0),\n",
       "             ('BAC', 0.0),\n",
       "             ('GM', 0.0),\n",
       "             ('T', 0.0),\n",
       "             ('UAA', 0.0),\n",
       "             ('XOM', 0.0),\n",
       "             ('RRC', 0.0),\n",
       "             ('BBY', 0.0),\n",
       "             ('MA', 0.08094),\n",
       "             ('PFE', 0.0),\n",
       "             ('JPM', 0.0),\n",
       "             ('SBUX', 0.16947)])"
      ]
     },
     "execution_count": 1,
     "metadata": {},
     "output_type": "execute_result"
    }
   ],
   "source": [
    "# Importing all required libraries\n",
    "\n",
    "import matplotlib.pyplot as plt\n",
    "import numpy as np\n",
    "import pandas as pd\n",
    "import pandas_datareader.data as web\n",
    "\n",
    "from matplotlib.ticker import FuncFormatter\n",
    "\n",
    "from pypfopt import objective_functions\n",
    "from pypfopt import risk_models\n",
    "from pypfopt import expected_returns\n",
    "#from pypfopt import plotting\n",
    "\n",
    "from pypfopt.cla import CLA\n",
    "from pypfopt.discrete_allocation import DiscreteAllocation, get_latest_prices\n",
    "from pypfopt.efficient_frontier import EfficientFrontier\n",
    "\n",
    "# library\n",
    "import matplotlib.pyplot as plt\n",
    "from palettable.colorbrewer.qualitative import Pastel1_7\n",
    "\n",
    "# Risk free rate:\n",
    "\n",
    "rf = 0.025\n",
    "\n",
    "# Use an api to obtain a time series of a selected set of stocks, identified by their tickers.\n",
    "\n",
    "tickers = ['GOOG','AAPL','FB','BABA','AMZN','GE','AMD','WMT','BAC','GM','T','UAA','XOM','RRC','BBY','MA','PFE','JPM','SBUX']\n",
    "\n",
    "price_data = []\n",
    "\n",
    "start='2010-1-1'\n",
    "end = '2021-12-31'\n",
    "\n",
    "for ticker in tickers:\n",
    "    \n",
    "    prices = web.DataReader(ticker, 'stooq',start,end)\n",
    "    \n",
    "    price_data.append(prices.assign(ticker=ticker)[['Close']])\n",
    "    \n",
    "df_stocks = pd.concat(price_data, axis=1)\n",
    "df_stocks.columns=tickers\n",
    "\n",
    "df_stocks = df_stocks.sort_index()\n",
    "df_stocks.head()\n",
    "\n",
    "df_stocks.to_excel(\"df_stocks.xlsx\")\n",
    "\n",
    "# Obtain descriptive statistics of the sample\n",
    "\n",
    "# Annualized Return\n",
    "mu = expected_returns.mean_historical_return(df_stocks)\n",
    "\n",
    "# Sample Variance of Portfolio\n",
    "Sigma = risk_models.sample_cov(df_stocks)\n",
    "\n",
    "# Calculate the Sharpe ratio (mu/Sigma) of the different combinations of stocks within portfolios, and find those portfolios that have the highest Ratio given Sigma (efficient)\n",
    "\n",
    "ef = EfficientFrontier(mu-rf, Sigma) \n",
    "\n",
    "sharpe_pfolio = ef.max_sharpe() \n",
    "sharpe_pwt    = ef.clean_weights()\n",
    "\n",
    "ef.clean_weights()"
   ]
  },
  {
   "cell_type": "code",
   "execution_count": 5,
   "id": "04d99799",
   "metadata": {},
   "outputs": [
    {
     "name": "stdout",
     "output_type": "stream",
     "text": [
      "Expected annual return: 26.9%\n",
      "Annual volatility: 22.7%\n",
      "Sharpe Ratio: 1.10\n"
     ]
    }
   ],
   "source": [
    "PERF = ef.portfolio_performance(verbose=True)"
   ]
  },
  {
   "cell_type": "code",
   "execution_count": 6,
   "id": "56c61acc",
   "metadata": {},
   "outputs": [
    {
     "data": {
      "text/html": [
       "<div>\n",
       "<style scoped>\n",
       "    .dataframe tbody tr th:only-of-type {\n",
       "        vertical-align: middle;\n",
       "    }\n",
       "\n",
       "    .dataframe tbody tr th {\n",
       "        vertical-align: top;\n",
       "    }\n",
       "\n",
       "    .dataframe thead th {\n",
       "        text-align: right;\n",
       "    }\n",
       "</style>\n",
       "<table border=\"1\" class=\"dataframe\">\n",
       "  <thead>\n",
       "    <tr style=\"text-align: right;\">\n",
       "      <th></th>\n",
       "      <th>Annual Return</th>\n",
       "      <th>Annual Volatility</th>\n",
       "      <th>Sharpe Ratio</th>\n",
       "    </tr>\n",
       "  </thead>\n",
       "  <tbody>\n",
       "    <tr>\n",
       "      <th>Values</th>\n",
       "      <td>0.268908</td>\n",
       "      <td>0.227131</td>\n",
       "      <td>1.095876</td>\n",
       "    </tr>\n",
       "  </tbody>\n",
       "</table>\n",
       "</div>"
      ],
      "text/plain": [
       "        Annual Return  Annual Volatility  Sharpe Ratio\n",
       "Values       0.268908           0.227131      1.095876"
      ]
     },
     "execution_count": 6,
     "metadata": {},
     "output_type": "execute_result"
    }
   ],
   "source": [
    "d = {\"Annual Return\":PERF[0],\"Annual Volatility\":PERF[1],\"Sharpe Ratio\":PERF[2]}\n",
    "\n",
    "Performance = pd.DataFrame(data=d,index=[\"Values\"])\n",
    "Performance"
   ]
  },
  {
   "cell_type": "code",
   "execution_count": 8,
   "id": "de2cf411",
   "metadata": {},
   "outputs": [
    {
     "data": {
      "text/html": [
       "<div>\n",
       "<style scoped>\n",
       "    .dataframe tbody tr th:only-of-type {\n",
       "        vertical-align: middle;\n",
       "    }\n",
       "\n",
       "    .dataframe tbody tr th {\n",
       "        vertical-align: top;\n",
       "    }\n",
       "\n",
       "    .dataframe thead th {\n",
       "        text-align: right;\n",
       "    }\n",
       "</style>\n",
       "<table border=\"1\" class=\"dataframe\">\n",
       "  <thead>\n",
       "    <tr style=\"text-align: right;\">\n",
       "      <th></th>\n",
       "      <th>Weights</th>\n",
       "    </tr>\n",
       "  </thead>\n",
       "  <tbody>\n",
       "    <tr>\n",
       "      <th>AAPL</th>\n",
       "      <td>0.46387</td>\n",
       "    </tr>\n",
       "    <tr>\n",
       "      <th>FB</th>\n",
       "      <td>0.01268</td>\n",
       "    </tr>\n",
       "    <tr>\n",
       "      <th>AMZN</th>\n",
       "      <td>0.27304</td>\n",
       "    </tr>\n",
       "    <tr>\n",
       "      <th>MA</th>\n",
       "      <td>0.08094</td>\n",
       "    </tr>\n",
       "    <tr>\n",
       "      <th>SBUX</th>\n",
       "      <td>0.16947</td>\n",
       "    </tr>\n",
       "  </tbody>\n",
       "</table>\n",
       "</div>"
      ],
      "text/plain": [
       "      Weights\n",
       "AAPL  0.46387\n",
       "FB    0.01268\n",
       "AMZN  0.27304\n",
       "MA    0.08094\n",
       "SBUX  0.16947"
      ]
     },
     "execution_count": 8,
     "metadata": {},
     "output_type": "execute_result"
    }
   ],
   "source": [
    "Portf_t = list(sharpe_pwt.keys())\n",
    "Portf_w = list(sharpe_pwt.values())\n",
    "\n",
    "P_T = []\n",
    "P_W = []\n",
    "\n",
    "for i in range(len(Portf_t)):\n",
    "    \n",
    "    P_T.append(Portf_t[i])\n",
    "    P_W.append(Portf_w[i])\n",
    "    \n",
    "PORTF   = pd.DataFrame(data=P_W,columns=['Weights'],index=P_T)\n",
    "PORTpos = PORTF.loc[PORTF['Weights'] >0]\n",
    "\n",
    "PORTpos"
   ]
  },
  {
   "cell_type": "code",
   "execution_count": 12,
   "id": "33e58af4",
   "metadata": {},
   "outputs": [
    {
     "data": {
      "image/png": "[encoded data removed]",
      "text/plain": [
       "<Figure size 432x288 with 1 Axes>"
      ]
     },
     "metadata": {},
     "output_type": "display_data"
    }
   ],
   "source": [
    "# create data\n",
    "names = list(PORTpos.index)\n",
    "size  = list(PORTpos.Weights)\n",
    " \n",
    "# Create a circle at the center of the plot\n",
    "my_circle = plt.Circle( (0,0), 0.7, color='white')\n",
    "\n",
    "from palettable.colorbrewer.qualitative import Pastel1_7\n",
    "plt.pie(size, labels=names, colors=Pastel1_7.hex_colors)\n",
    "p = plt.gcf()\n",
    "p.gca().add_artist(my_circle)\n",
    "\n",
    "# Show the graph\n",
    "plt.savefig(\"chart.png\", format=\"png\") # specify filetype explicitly\n",
    "\n",
    "plt.show()\n",
    "plt.close()"
   ]
  },
  {
   "cell_type": "code",
   "execution_count": 13,
   "id": "4f58bc5f",
   "metadata": {},
   "outputs": [],
   "source": [
    "# 1. Set up multiple variables to store the titles, text within the report\n",
    "page_title_text='My report'\n",
    "title_text = 'Recommended Portfolio'\n",
    "text = 'Find below your optimal portfolio based on your risk profile and recent market conditions'\n",
    "stats_text = 'Percentage of optimal portfolio on individual stocks'\n",
    "perf_text  = 'Performance of optimal portfolio'\n",
    "\n",
    "\n",
    "# 2. Combine them together using a long f-string\n",
    "html = f'''\n",
    "    <html>\n",
    "        <head>\n",
    "            <title>{page_title_text}</title>\n",
    "        </head>\n",
    "        <body>\n",
    "            <h1>{title_text}</h1>\n",
    "            <p>{text}</p>\n",
    "            <img src='chart.png' width=\"700\">\n",
    "            <h2>{perf_text}</h2>\n",
    "            {Performance.to_html()}\n",
    "            <h2>{stats_text}</h2>\n",
    "            {PORTF.to_html()}\n",
    "        </body>\n",
    "    </html>\n",
    "    '''\n",
    "# 3. Write the html string as an HTML file\n",
    "with open('html_report.html', 'w') as f:\n",
    "    f.write(html)"
   ]
  },
  {
   "cell_type": "code",
   "execution_count": null,
   "id": "76c7ca72",
   "metadata": {},
   "outputs": [],
   "source": [
    "PersonalStatementOnRisk = input('Enter your perception on risk: ')"
   ]
  },
  {
   "cell_type": "code",
   "execution_count": null,
   "id": "5635ed14",
   "metadata": {},
   "outputs": [],
   "source": [
    "from vaderSentiment.vaderSentiment import SentimentIntensityAnalyzer\n",
    "\n",
    "sa = SentimentIntensityAnalyzer()\n",
    "\n",
    "sa.polarity_scores(PersonalStatementOnRisk)"
   ]
  },
  {
   "cell_type": "code",
   "execution_count": null,
   "id": "620610be",
   "metadata": {},
   "outputs": [],
   "source": [
    "if sa.polarity_scores(PersonalStatementOnRisk)['neg']>sa.polarity_scores(PersonalStatementOnRisk)['neu'] and sa.polarity_scores(PersonalStatementOnRisk)['neg']>sa.polarity_scores(PersonalStatementOnRisk)['pos']:\n",
    "    \n",
    "    print(\"Propose Minimum Variance portfolio\")\n",
    "    \n",
    "elif sa.polarity_scores(PersonalStatementOnRisk)['pos']>sa.polarity_scores(PersonalStatementOnRisk)['neu'] and sa.polarity_scores(PersonalStatementOnRisk)['pos']>sa.polarity_scores(PersonalStatementOnRisk)['neg']:\n",
    "    \n",
    "    print(\"Propose Optimal Portfolio + Options Strategy \")\n",
    "    \n",
    "else:\n",
    "    \n",
    "    print(\"Propose Optimal Portfolio\")"
   ]
  },
  {
   "cell_type": "code",
   "execution_count": null,
   "id": "9c1ff854",
   "metadata": {},
   "outputs": [],
   "source": [
    "sa.polarity_scores(\"neg\")"
   ]
  },
  {
   "cell_type": "code",
   "execution_count": null,
   "id": "63212e9f",
   "metadata": {},
   "outputs": [],
   "source": [
    "sa.polarity_scores(PersonalStatementOnRisk)['neg']"
   ]
  },
  {
   "cell_type": "code",
   "execution_count": null,
   "id": "ad5801a7",
   "metadata": {},
   "outputs": [],
   "source": []
  }
 ],
 "metadata": {
  "kernelspec": {
   "display_name": "Python 3",
   "language": "python",
   "name": "python3"
  },
  "language_info": {
   "codemirror_mode": {
    "name": "ipython",
    "version": 3
   },
   "file_extension": ".py",
   "mimetype": "text/x-python",
   "name": "python",
   "nbconvert_exporter": "python",
   "pygments_lexer": "ipython3",
   "version": "3.8.8"
  }
 },
 "nbformat": 4,
 "nbformat_minor": 5
}
